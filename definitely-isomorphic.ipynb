{
 "cells": [
  {
   "cell_type": "code",
   "execution_count": 61,
   "id": "9f491e77",
   "metadata": {},
   "outputs": [],
   "source": [
    "# Kyrylo Kozlovskyi \n",
    "# G00425385\n",
    "import numpy as np\n",
    "from itertools import permutations"
   ]
  },
  {
   "cell_type": "code",
   "execution_count": 62,
   "id": "e4fd93c3",
   "metadata": {},
   "outputs": [],
   "source": [
    "# get adjacency matrix from edge list \n",
    "def get_adjacency_matrix(edge_list, num_nodes):\n",
    "    \"\"\"\n",
    "    Convert an edge list to an adjacency matrix.\n",
    "    \"\"\"\n",
    "    matrix = np.zeros((num_nodes, num_nodes), dtype=int)\n",
    "    for u, v in edge_list:\n",
    "        matrix[u][v] = 1\n",
    "        matrix[v][u] = 1  # assuming undirected graphs\n",
    "    return matrix\n",
    "\n",
    "def relabel_edges(edge_list, mapping):\n",
    "    \"\"\"\n",
    "    Apply a node mapping to an edge list.\n",
    "    \"\"\"\n",
    "    relabeled = [(mapping[u], mapping[v]) for u, v in edge_list]\n",
    "    return [tuple(sorted(edge)) for edge in relabeled]\n"
   ]
  },
  {
   "cell_type": "code",
   "execution_count": 63,
   "id": "570c6a61",
   "metadata": {},
   "outputs": [],
   "source": [
    "#  get degrees of nodes \n",
    "def get_degrees(nodes, edges):\n",
    "    \"\"\"\n",
    "    Counts how many edges are connected to each node.\n",
    "    Returns a dictionary with node degrees.\n",
    "    \"\"\"\n",
    "    degree = {node: 0 for node in nodes}\n",
    "    for u, v in edges:\n",
    "        degree[u] += 1\n",
    "        degree[v] += 1\n",
    "    return degree"
   ]
  },
  {
   "cell_type": "code",
   "execution_count": 64,
   "id": "28757a51",
   "metadata": {},
   "outputs": [
    {
     "data": {
      "text/plain": [
       "[[0, 1, 2, 3], [0, 1, 3, 2]]"
      ]
     },
     "execution_count": 64,
     "metadata": {},
     "output_type": "execute_result"
    }
   ],
   "source": [
    "def get_candidates_from_decision_trees(nodes1, edges1, nodes2, edges2):\n",
    "    \"\"\"\n",
    "    Method 1 Tries to figure out which nodes from the first graph\n",
    "    can be mapped to which nodes in the second graph using degree and connections.\n",
    "    Then it uses that to generate all valid candidate mappings.\n",
    "    \"\"\"\n",
    "\n",
    "    # Get the degrees of each node in both graphs\n",
    "    degrees1 = get_degrees(nodes1, edges1)\n",
    "    degrees2 = get_degrees(nodes2, edges2)\n",
    "\n",
    "    # Create possible matches based on degree values\n",
    "    mapping_dict = {}\n",
    "    for n1 in nodes1:\n",
    "        deg1 = degrees1[n1]\n",
    "        options = set()\n",
    "        for n2 in nodes2:\n",
    "            if degrees2[n2] == deg1:\n",
    "                options.add(n2)\n",
    "        mapping_dict[n1] = options\n",
    "\n",
    "    # Map node labels to indices (since we return index-based results)\n",
    "    node2index = {label: i for i, label in enumerate(nodes2)}\n",
    "\n",
    "    # Now build up all possible mappings recursively\n",
    "    # Start with no mappings and build step-by-step\n",
    "    possible = [[]]\n",
    "    for n1 in nodes1:\n",
    "        current = []\n",
    "        for mapping in possible:\n",
    "            for option in mapping_dict[n1]:\n",
    "                idx = node2index[option]\n",
    "                if idx not in mapping:  # avoid assigning the same node twice\n",
    "                    current.append(mapping + [idx])\n",
    "        possible = current\n",
    "\n",
    "    return sorted([list(p) for p in possible])\n",
    "\n",
    "\n",
    "nodes1 = ['1', '2', '3', '4']\n",
    "edges1 = [('1', '2'), ('1', '3'), ('3', '4'), ('4', '1')]\n",
    "\n",
    "nodes2 = ['k', 'm', 'p', 'r']\n",
    "edges2 = [('k', 'm'), ('k', 'p'), ('p', 'r'), ('r', 'k')]\n",
    "\n",
    "get_candidates_from_decision_trees(nodes1, edges1, nodes2, edges2)\n"
   ]
  }
 ],
 "metadata": {
  "kernelspec": {
   "display_name": "base",
   "language": "python",
   "name": "python3"
  },
  "language_info": {
   "codemirror_mode": {
    "name": "ipython",
    "version": 3
   },
   "file_extension": ".py",
   "mimetype": "text/x-python",
   "name": "python",
   "nbconvert_exporter": "python",
   "pygments_lexer": "ipython3",
   "version": "3.12.7"
  }
 },
 "nbformat": 4,
 "nbformat_minor": 5
}
