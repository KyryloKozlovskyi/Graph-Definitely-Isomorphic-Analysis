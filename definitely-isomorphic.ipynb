{
 "cells": [
  {
   "cell_type": "code",
   "execution_count": 131,
   "id": "9f491e77",
   "metadata": {},
   "outputs": [],
   "source": [
    "# Kyrylo Kozlovskyi\n",
    "# G00425385\n",
    "# https://github.com/KyryloKozlovskyi/Graph-Definitely-Isomorphic-Analysis\n",
    "\n",
    "import numpy as np\n",
    "from itertools import permutations"
   ]
  },
  {
   "cell_type": "code",
   "execution_count": 132,
   "id": "570c6a61",
   "metadata": {},
   "outputs": [],
   "source": [
    "# Function to get the degree of each vertex in a graph\n",
    "def get_degree(V, E):\n",
    "    \"\"\"\n",
    "    Get the degree of each vertex in a graph. The degree of a vertex is the number of edges connected to it.\n",
    "    :param V: List of vertices\n",
    "    :param E: List of edges\n",
    "    :return: Dictionary with vertices as keys and their degrees as values\n",
    "    \"\"\"\n",
    "    # Create a dictionary to store the degree of each vertex and initialize it with 0\n",
    "    counts = {v: 0 for v in V}\n",
    "    # Iterate over the vertices\n",
    "    for v in V:\n",
    "        # Iterate over the edges\n",
    "        for e in E:\n",
    "            # If the vertex is in the edge, increment the count\n",
    "            if v in e:\n",
    "                counts[v] += 1\n",
    "    # Return the dictionary with the degree (a number of times a vertex appears in edges)\n",
    "    return counts"
   ]
  },
  {
   "cell_type": "code",
   "execution_count": 133,
   "id": "28757a51",
   "metadata": {},
   "outputs": [],
   "source": [
    "# Method 1\n",
    "def decision_tree_candidates(G1, G2):\n",
    "    \"\"\"\n",
    "    Generate candidate mappings between two graphs assumed to be likely isomorphic.\n",
    "\n",
    "    This function uses a decision tree approach:\n",
    "        1. Match nodes from G1 to nodes in G2 based on degree. (Check if vertices have the same degree distribution)\n",
    "        2. Creating a mapping dictionary based on matching degrees\n",
    "        3. Recursively build all valid combinations without reusing nodes.\n",
    "\n",
    "    Accepts two graphs in the form (V, E), where V is a list of vertices,\n",
    "    and E is a list of edges.\n",
    "    :param G1: First graph (V1, E1)\n",
    "    :param G2: Second graph (V2, E2)\n",
    "    :return: A sorted list of all possible mappings from G1 to G2.\n",
    "    \"\"\"\n",
    "\n",
    "    # Unpack the graphs\n",
    "    V1, E1 = G1  # Graph 1 (V1, E1)\n",
    "    V2, E2 = G2  # Graph 2 (V2, E2)\n",
    "\n",
    "    # Get the degrees of each vertex in both graphs\n",
    "    deg1 = get_degree(V1, E1)  # Degree of vertices in graph 1\n",
    "    deg2 = get_degree(V2, E2)  # Degree of vertices in graph 2\n",
    "\n",
    "    # Check if the number of vertices is the same in both graphs\n",
    "    mapping_dict = {}  # Dictionary to store possible mappings\n",
    "    for v in V1:  # Iterate over vertices in graph 1\n",
    "        d1 = deg1[v]  # Get the degree of the current vertex in graph 1\n",
    "        possible = {w for w in V2 if deg2[w] == d1}  # Find vertices in graph 2 with the same degree\n",
    "        mapping_dict[v] = possible  # Store the possible mappings for the current vertex\n",
    "\n",
    "    # Check if the number of possible mappings is the same for each vertex\n",
    "    index_map = {label: i for i, label in enumerate(V2)}\n",
    "\n",
    "    # Check if the number of possible mappings is the same for each vertex\n",
    "    mappings = [[]]  # Initialize mappings with an empty list\n",
    "    for v in V1:  # Iterate over vertices in graph 1\n",
    "        current = []  # Initialize current mappings\n",
    "        for m in mappings:  # Iterate over existing mappings\n",
    "            for option in mapping_dict[v]:  # Iterate over possible mappings for the current vertex\n",
    "                idx = index_map[option]  # Get the index of the option in graph 2\n",
    "                if idx not in m:  # Check if the option is already used in the current mapping\n",
    "                    current.append(m + [idx])  # Add the new mapping to the current list\n",
    "        mappings = current  # Update mappings with the current list\n",
    "    # Return sorted mappings\n",
    "    return sorted([tuple(m) for m in mappings])"
   ]
  },
  {
   "cell_type": "code",
   "execution_count": 134,
   "id": "a0cfa6fa",
   "metadata": {},
   "outputs": [
    {
     "data": {
      "text/plain": [
       "[(0, 1, 2, 3), (0, 1, 3, 2)]"
      ]
     },
     "execution_count": 134,
     "metadata": {},
     "output_type": "execute_result"
    }
   ],
   "source": [
    "# Graphs for testing\n",
    "# Example graphs for testing\n",
    "# Graph 1: A square with vertices 1, 2, 3, and 4\n",
    "V1 = ['1', '2', '3', '4']\n",
    "E1 = [('1', '2'), ('1', '3'), ('3', '4'), ('4', '1')]\n",
    "G1 = (V1, E1)\n",
    "\n",
    "# Graph 2: A square with vertices 1, 2, 3, and 4\n",
    "V2 = ['1', '2', '3', '4']\n",
    "E2 = [('1', '2'), ('1', '3'), ('3', '4'), ('4', '1')]\n",
    "G2 = (V2, E2)\n",
    "\n",
    "# Test the function with the example graphs\n",
    "decision_tree_candidates(G1, G2)"
   ]
  },
  {
   "cell_type": "code",
   "execution_count": 135,
   "id": "b50f9a47",
   "metadata": {},
   "outputs": [
    {
     "name": "stdout",
     "output_type": "stream",
     "text": [
      "[(0, 1, 2, 3), (0, 1, 3, 2)]\n"
     ]
    }
   ],
   "source": [
    "def isomorphism_checker(G1, G2):\n",
    "    \"\"\"\n",
    "    Checks which candidate mappings from Method 1 are actual isomorphisms.\n",
    "\n",
    "    This function translates the edges of G1 using each mapping,\n",
    "    and compares them to the edges in G2. If the edge sets match,\n",
    "    the mapping is considered a valid isomorphism.\n",
    "\n",
    "    :param G1: First graph (V1, E1)\n",
    "    :param G2: Second graph (V2, E2)\n",
    "    :return: List of valid isomorphisms (mappings that preserve edge structure)\n",
    "    \"\"\"\n",
    "    # Unpack the graph tuples into vertices and edges\n",
    "    V1, E1 = G1  \n",
    "    V2, E2 = G2 \n",
    "\n",
    "    # Get vertex mappings from the first method\n",
    "    candidates = decision_tree_candidates(G1, G2)\n",
    "    \n",
    "    # Create dictionaries to convert between vertex labels and their positions in the vertex lists\n",
    "    label_to_index_1 = {label: i for i, label in enumerate(V1)}  # Maps vertex labels to their indices in V1\n",
    "    label_to_index_2 = {label: i for i, label in enumerate(V2)}  # Maps vertex labels to their indices in V2\n",
    "\n",
    "    # Transform G2 edges into a set of index pairs and sort them for consistency\n",
    "    edge_set_2 = {tuple(sorted((label_to_index_2[u], label_to_index_2[v]))) for u, v in E2} \n",
    "\n",
    "    # Initialize an empty list to store isomorphisms mapped from G1 to G2\n",
    "    isomorphisms = [] \n",
    " \n",
    "    # Iterate over each candidate mapping\n",
    "    for mapping in candidates:\n",
    "        # For each mapping, create a new list of edges for G1 based on the current mapping\n",
    "        translated_edges = [] \n",
    "        \n",
    "        # Iterate over each edge in the first graph\n",
    "        for u, v in E1:\n",
    "            # Find the position of the endpoints in the vertices list V1\n",
    "            u_idx = label_to_index_1[u]  # Get index position of vertex u in V1\n",
    "            v_idx = label_to_index_1[v]  # Get index position of vertex v in V1\n",
    "            \n",
    "            # Map these vertices to their corresponding vertices in G2 to the current mapping\n",
    "            mapped_u = mapping[u_idx]  # Get the corresponding vertex index in G2 for u\n",
    "            mapped_v = mapping[v_idx]  # Get the corresponding vertex index in G2 for v\n",
    "            \n",
    "            translated_edges.append(tuple(sorted((mapped_u, mapped_v))))  # Store the edge in normalized form, sorted for consistency\n",
    "        \n",
    "        # Check if the translated edges from G1 match the edges of G2\n",
    "        if set(translated_edges) == edge_set_2:  # Compare the sets of edges to determine isomorphism\n",
    "            isomorphisms.append(mapping)  # If edges are the same, this mapping is a valid isomorphism\n",
    "            \n",
    "    # Return the list of all valid graph isomorphisms found\n",
    "    return isomorphisms \n",
    "\n",
    "# Example usage\n",
    "print(isomorphism_checker(G1, G2))"
   ]
  },
  {
   "cell_type": "code",
   "execution_count": null,
   "id": "269cabdc",
   "metadata": {},
   "outputs": [],
   "source": []
  }
 ],
 "metadata": {
  "kernelspec": {
   "display_name": "base",
   "language": "python",
   "name": "python3"
  },
  "language_info": {
   "codemirror_mode": {
    "name": "ipython",
    "version": 3
   },
   "file_extension": ".py",
   "mimetype": "text/x-python",
   "name": "python",
   "nbconvert_exporter": "python",
   "pygments_lexer": "ipython3",
   "version": "3.12.7"
  }
 },
 "nbformat": 4,
 "nbformat_minor": 5
}
